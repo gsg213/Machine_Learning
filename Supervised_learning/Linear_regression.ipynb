{
 "cells": [
  {
   "cell_type": "code",
   "execution_count": null,
   "metadata": {
    "colab": {},
    "colab_type": "code",
    "id": "-ZFREyLEhGjL"
   },
   "outputs": [],
   "source": [
    "#must install mglearn"
   ]
  },
  {
   "cell_type": "code",
   "execution_count": 3,
   "metadata": {
    "colab": {},
    "colab_type": "code",
    "executionInfo": {
     "elapsed": 1452,
     "status": "ok",
     "timestamp": 1598729013927,
     "user": {
      "displayName": "GUSTAVO ANDRES SALAZAR GOMEZ",
      "photoUrl": "",
      "userId": "10827691154993089775"
     },
     "user_tz": 300
    },
    "id": "zLgqBhMagrdx"
   },
   "outputs": [],
   "source": [
    "import numpy as np\n",
    "import mglearn\n",
    "from sklearn.linear_model import LinearRegression\n",
    "import matplotlib.pyplot as plt\n",
    "from sklearn.model_selection import train_test_split "
   ]
  },
  {
   "cell_type": "code",
   "execution_count": 15,
   "metadata": {
    "colab": {
     "base_uri": "https://localhost:8080/",
     "height": 296
    },
    "colab_type": "code",
    "executionInfo": {
     "elapsed": 1001,
     "status": "ok",
     "timestamp": 1598729934180,
     "user": {
      "displayName": "GUSTAVO ANDRES SALAZAR GOMEZ",
      "photoUrl": "",
      "userId": "10827691154993089775"
     },
     "user_tz": 300
    },
    "id": "OCPRIDyNhQxT",
    "outputId": "e5c03425-bc8d-46a5-c5d4-8c98f50b997d"
   },
   "outputs": [
    {
     "data": {
      "text/plain": [
       "Text(0.5, 0, 'Input')"
      ]
     },
     "execution_count": 15,
     "metadata": {
      "tags": []
     },
     "output_type": "execute_result"
    },
    {
     "data": {
      "image/png": "[encoded data removed]",
      "text/plain": [
       "<Figure size 432x288 with 1 Axes>"
      ]
     },
     "metadata": {
      "needs_background": "light",
      "tags": []
     },
     "output_type": "display_data"
    }
   ],
   "source": [
    "X,Y = mglearn.datasets.make_wave(n_samples = 50)\n",
    "\n",
    "#print('Valores de X: ', X)\n",
    "\n",
    "plt.plot(X,Y,'o')\n",
    "plt.ylim(Y.min()-1,Y.max()+1)\n",
    "plt.xlim(X.min()-1,X.max()+1)\n",
    "plt.ylabel(\"Target\")\n",
    "plt.xlabel(\"Input\")"
   ]
  },
  {
   "cell_type": "code",
   "execution_count": 17,
   "metadata": {
    "colab": {
     "base_uri": "https://localhost:8080/",
     "height": 317
    },
    "colab_type": "code",
    "executionInfo": {
     "elapsed": 762,
     "status": "ok",
     "timestamp": 1598729963930,
     "user": {
      "displayName": "GUSTAVO ANDRES SALAZAR GOMEZ",
      "photoUrl": "",
      "userId": "10827691154993089775"
     },
     "user_tz": 300
    },
    "id": "-Y8WRhZ-kNqQ",
    "outputId": "49de219c-82d8-4bda-98d0-d9f33c04766f"
   },
   "outputs": [
    {
     "name": "stdout",
     "output_type": "stream",
     "text": [
      "[0.46921528]\n",
      "0.03466110236196443\n"
     ]
    },
    {
     "data": {
      "text/plain": [
       "<matplotlib.legend.Legend at 0x7f1604512240>"
      ]
     },
     "execution_count": 17,
     "metadata": {
      "tags": []
     },
     "output_type": "execute_result"
    },
    {
     "data": {
      "image/png": "[encoded data removed]",
      "text/plain": [
       "<Figure size 432x288 with 1 Axes>"
      ]
     },
     "metadata": {
      "needs_background": "light",
      "tags": []
     },
     "output_type": "display_data"
    }
   ],
   "source": [
    "X_train,X_test,Y_train,Y_test= train_test_split(X,Y,test_size = 0.30,random_state=0)\n",
    "\n",
    "scores= []\n",
    "scores_t = []\n",
    "\n",
    "linear_model = LinearRegression()\n",
    "linear_model.fit(X_train, Y_train)\n",
    "scores.append(linear_model.score(X_test, Y_test))\n",
    "scores_t.append(linear_model.score(X_train, Y_train))\n",
    "\n",
    "print(linear_model.coef_) #pesos W\n",
    "print(linear_model.intercept_)\n",
    "plt.ylabel('Accuracy')\n",
    "\n",
    "plt.plot( X_test[1],scores,label='X_test')\n",
    "plt.plot(X_train[1],scores_t,label='X_train')\n",
    "plt.legend()"
   ]
  },
  {
   "cell_type": "markdown",
   "metadata": {
    "colab_type": "text",
    "id": "rUSM01c_tQww"
   },
   "source": [
    "\n",
    "\n",
    "---\n",
    "\n",
    "#Boston dataset"
   ]
  },
  {
   "cell_type": "code",
   "execution_count": 34,
   "metadata": {
    "colab": {
     "base_uri": "https://localhost:8080/",
     "height": 52
    },
    "colab_type": "code",
    "executionInfo": {
     "elapsed": 539,
     "status": "ok",
     "timestamp": 1598732066813,
     "user": {
      "displayName": "GUSTAVO ANDRES SALAZAR GOMEZ",
      "photoUrl": "",
      "userId": "10827691154993089775"
     },
     "user_tz": 300
    },
    "id": "zwlkbgvxtU5d",
    "outputId": "03d45e3e-08a7-4282-ddc2-1230163cf414"
   },
   "outputs": [
    {
     "name": "stdout",
     "output_type": "stream",
     "text": [
      "Tamaño X:  (506, 104)\n",
      "Tamaño y|:  (506,)\n"
     ]
    }
   ],
   "source": [
    "from sklearn.datasets import load_boston\n",
    "\n",
    "boston=load_boston()\n",
    "\n",
    "X, y = mglearn.datasets.load_extended_boston()\n",
    "\n",
    "print(\"Tamaño X: \",np.array(X).shape)\n",
    "print(\"Tamaño y|: \",np.array(y).shape)"
   ]
  },
  {
   "cell_type": "code",
   "execution_count": 27,
   "metadata": {
    "colab": {
     "base_uri": "https://localhost:8080/",
     "height": 521
    },
    "colab_type": "code",
    "executionInfo": {
     "elapsed": 939,
     "status": "ok",
     "timestamp": 1598730620978,
     "user": {
      "displayName": "GUSTAVO ANDRES SALAZAR GOMEZ",
      "photoUrl": "",
      "userId": "10827691154993089775"
     },
     "user_tz": 300
    },
    "id": "JdS_kdggvTjd",
    "outputId": "228d0e64-c6c6-4647-e643-964c55e40b16"
   },
   "outputs": [
    {
     "name": "stdout",
     "output_type": "stream",
     "text": [
      "W:  [-4.33704714e+02 -4.27754308e+01 -1.28481468e+02 -1.18776033e+01\n",
      " -1.78703730e+01  2.59686895e+01  5.63747064e+01 -5.58439243e+01\n",
      "  1.61598828e+01  4.16901656e+01 -1.09516095e+01 -1.40253594e+01\n",
      " -2.19041413e+01  1.90551463e+01  2.76667699e+03  1.53047514e+03\n",
      "  1.21268554e+02 -4.60499609e+00  2.48383118e+01 -3.00570284e+01\n",
      "  9.59771262e+01  1.33888720e+03 -2.33427571e+03  2.61342693e+02\n",
      " -1.41712353e+00  3.20215615e+01 -1.45894092e+01 -2.10437385e+01\n",
      " -7.66545703e+00 -8.03876611e+01  8.62968881e+00  7.28471754e+00\n",
      " -1.10266163e+00 -2.24144700e+00  3.23407788e+01 -1.03736502e+01\n",
      "  5.97750174e+01 -1.83399865e+01  3.64204995e+01 -4.26367054e+00\n",
      "  1.59044619e+01  5.69081378e+01  1.48746227e+01  6.39295382e+01\n",
      " -2.16980861e+01  2.25591789e+01 -1.49418510e+01  5.49066542e+01\n",
      " -1.30858038e+01 -1.18776033e+01 -1.67729835e+01 -3.46890006e+01\n",
      "  6.55871187e+00 -7.06931008e+00  1.15762091e+01 -5.82484408e+00\n",
      " -1.09660567e+01  5.89367073e+01 -1.93606085e+01  1.08440448e+00\n",
      "  2.92079323e+01 -1.79712416e+01  7.76892471e+01 -1.76823041e+01\n",
      "  2.10705479e+01 -3.61318856e+01  7.83124859e+00  2.30781445e+01\n",
      "  2.58472388e+01 -4.93601058e+01  3.34258774e+01  1.26260260e+01\n",
      " -7.27589803e+01 -2.34183530e+01  9.65471263e+00 -5.42861776e+00\n",
      "  2.99587789e+00 -5.58273290e+00  4.24364627e+01 -4.00394492e+01\n",
      " -3.07127315e+00 -2.95814395e+01 -3.26454923e+01  4.99511531e+01\n",
      " -2.60658619e+01 -2.07088803e+01 -1.37591761e+01 -2.44341720e+01\n",
      "  3.80071780e+01 -1.01350600e+02  1.40986617e+02 -1.21703331e+01\n",
      " -1.28431955e+01 -2.60888445e+01 -2.74946939e+01  2.85035364e+01\n",
      " -1.87238637e+01  2.16330148e+00  1.33434185e+00  3.34762834e+01\n",
      "  1.05195500e+01  1.01366894e+00  3.59245203e+00  3.20470461e+01]\n",
      "b:  29.512674275861542\n",
      "Train Accuracy:  0.9517246762476056\n",
      "Test Accuracy:  0.6486839499987755\n"
     ]
    }
   ],
   "source": [
    "X_train,X_test,Y_train,Y_test= train_test_split(X,y,test_size = 0.30,random_state=0)\n",
    "\n",
    "lm =   LinearRegression( )\n",
    "lm.fit(X_train, Y_train)\n",
    "\n",
    "print(\"W: \",lm.coef_) #pesos W\n",
    "print(\"b: \",lm.intercept_)\n",
    "\n",
    "print(\"Train Accuracy: \",lm.score(X_train, Y_train))\n",
    "print(\"Test Accuracy: \",lm.score(X_test, Y_test))\n"
   ]
  },
  {
   "cell_type": "code",
   "execution_count": null,
   "metadata": {
    "colab": {},
    "colab_type": "code",
    "id": "gEovhgb3zRa4"
   },
   "outputs": [],
   "source": [
    "from sklearn.linear_model import Ridge \n",
    "\n",
    "r =   Ridge()\n",
    "r.fit(X_train, Y_train)\n",
    "\n",
    "print(\"W: \",r.coef_) #pesos W\n",
    "print(\"b: \",r.intercept_)\n",
    "\n",
    "print(\"Train Accuracy: \",r.score(X_train, Y_train))\n",
    "print(\"Test Accuracy: \",r.score(X_test, Y_test))\n"
   ]
  },
  {
   "cell_type": "code",
   "execution_count": 44,
   "metadata": {
    "colab": {
     "base_uri": "https://localhost:8080/",
     "height": 296
    },
    "colab_type": "code",
    "executionInfo": {
     "elapsed": 1288,
     "status": "ok",
     "timestamp": 1598732819957,
     "user": {
      "displayName": "GUSTAVO ANDRES SALAZAR GOMEZ",
      "photoUrl": "",
      "userId": "10827691154993089775"
     },
     "user_tz": 300
    },
    "id": "JxcnV9Lb10s6",
    "outputId": "6461c0c8-8b77-4035-c485-19fdcc659713"
   },
   "outputs": [
    {
     "data": {
      "text/plain": [
       "<matplotlib.legend.Legend at 0x7f1601588358>"
      ]
     },
     "execution_count": 44,
     "metadata": {
      "tags": []
     },
     "output_type": "execute_result"
    },
    {
     "data": {
      "image/png": "[encoded data removed]",
      "text/plain": [
       "<Figure size 432x288 with 1 Axes>"
      ]
     },
     "metadata": {
      "needs_background": "light",
      "tags": []
     },
     "output_type": "display_data"
    }
   ],
   "source": [
    "X_train,X_test,Y_train,Y_test= train_test_split(X,y,test_size = 0.30,random_state=140)\n",
    "r_range = [0.001,0.1,1,2,10,15,40]\n",
    "scores = []\n",
    "scores_t=[]\n",
    "\n",
    "\n",
    "#se recorre el hyperparameter para validar cual demuestra un mejor resultado\n",
    "for a in r_range:\n",
    "    r =   Ridge(alpha=a)\n",
    "    r.fit(X_train, Y_train)\n",
    "    scores.append(r.score(X_test, Y_test))\n",
    "    scores_t.append(r.score(X_train, Y_train))\n",
    "\n",
    "plt.xlabel('alpha')\n",
    "plt.ylabel('Accuracy')\n",
    "\n",
    "plt.plot(r_range, scores,label='X_test')\n",
    "plt.plot(r_range, scores_t,label='X_train')\n",
    "plt.legend()"
   ]
  },
  {
   "cell_type": "code",
   "execution_count": 42,
   "metadata": {
    "colab": {
     "base_uri": "https://localhost:8080/",
     "height": 296
    },
    "colab_type": "code",
    "executionInfo": {
     "elapsed": 1068,
     "status": "ok",
     "timestamp": 1598732693442,
     "user": {
      "displayName": "GUSTAVO ANDRES SALAZAR GOMEZ",
      "photoUrl": "",
      "userId": "10827691154993089775"
     },
     "user_tz": 300
    },
    "id": "K-iGQliq41yy",
    "outputId": "0ad928e4-66c6-4012-f03c-93715e2f1e06"
   },
   "outputs": [
    {
     "data": {
      "text/plain": [
       "<matplotlib.legend.Legend at 0x7f1601694da0>"
      ]
     },
     "execution_count": 42,
     "metadata": {
      "tags": []
     },
     "output_type": "execute_result"
    },
    {
     "data": {
      "image/png": "[encoded data removed]",
      "text/plain": [
       "<Figure size 432x288 with 1 Axes>"
      ]
     },
     "metadata": {
      "needs_background": "light",
      "tags": []
     },
     "output_type": "display_data"
    }
   ],
   "source": [
    "r01 =   Ridge(alpha=0.1).fit(X_train, Y_train)\n",
    "r1 =   Ridge(alpha=1).fit(X_train, Y_train)\n",
    "r10 =   Ridge(alpha=10).fit(X_train, Y_train)\n",
    "\n",
    "plt.plot(r1.coef_, 's', label=\"Ridge alpha=1\")  \n",
    "plt.plot(r10.coef_, '^', label=\"Ridge alpha=10\")  \n",
    "plt.plot(r01.coef_, 'v', label=\"Ridge alpha=0.1\")  \n",
    "#plt.plot(lr.coef_, 'o', label=\"LinearRegression\")  \n",
    "plt.xlabel(\"Coefficient index\")  \n",
    "plt.ylabel(\"Coefficient magnitude\")  \n",
    "xlims = plt.xlim()  \n",
    "plt.hlines(0, xlims[0], xlims[1])  \n",
    "plt.xlim(xlims)  \n",
    "plt.ylim(-25, 25)  \n",
    "plt.legend()"
   ]
  },
  {
   "cell_type": "code",
   "execution_count": 45,
   "metadata": {
    "colab": {
     "base_uri": "https://localhost:8080/",
     "height": 489
    },
    "colab_type": "code",
    "executionInfo": {
     "elapsed": 1249,
     "status": "ok",
     "timestamp": 1598735367876,
     "user": {
      "displayName": "GUSTAVO ANDRES SALAZAR GOMEZ",
      "photoUrl": "",
      "userId": "10827691154993089775"
     },
     "user_tz": 300
    },
    "id": "5TcvhVsHDM0g",
    "outputId": "f1c15cc1-6bfe-47e1-d446-d504fe494b5d"
   },
   "outputs": [
    {
     "name": "stdout",
     "output_type": "stream",
     "text": [
      "W:  [ -0.          -0.           0.           0.          -0.\n",
      "   6.69205461  -0.          -8.37695189  11.06166748   0.\n",
      "   0.           0.          -0.          -0.          -0.\n",
      "  -0.           0.          -0.          -0.          -0.\n",
      "  -0.         -10.13592426  -0.          -0.          -0.\n",
      "  -0.           3.43320675  -0.           0.          -0.\n",
      "   0.          -0.           0.          -0.          -0.\n",
      "   0.          -0.          -0.           0.           0.\n",
      "   0.          -0.           3.1819746   -0.           0.\n",
      "   3.03816993  -0.           0.          -7.61057722   0.\n",
      "  -4.62786772  -0.28151706   2.93165613  -0.           0.\n",
      "   0.           0.           0.96620827  -0.          -3.59014488\n",
      "  -1.14658979  -0.          -0.          -1.65473388  -0.\n",
      "  -1.93008336  -0.          -0.          24.53489765  -1.8591388\n",
      "   0.         -10.78785124 -10.62402056 -10.40542502   9.59833516\n",
      " -16.56036045   0.          -4.35708468   8.93168622   0.\n",
      "  -0.          -0.          -9.08692579   0.          -0.\n",
      "  -0.           0.          -0.           0.           0.\n",
      "   0.           0.           0.6314953  -17.97613409   0.\n",
      "   0.           0.          -9.25840776   0.           0.\n",
      "   0.           0.44070815  -8.93312423  23.83985233]\n",
      "b:  19.5960516366525\n",
      "Train Accuracy:  0.879422073751614\n",
      "Test Accuracy:  0.8296741378776629\n"
     ]
    },
    {
     "name": "stderr",
     "output_type": "stream",
     "text": [
      "/usr/local/lib/python3.6/dist-packages/sklearn/linear_model/_coordinate_descent.py:476: ConvergenceWarning: Objective did not converge. You might want to increase the number of iterations. Duality gap: 4.029423633883198, tolerance: 3.218153480225989\n",
      "  positive)\n"
     ]
    }
   ],
   "source": [
    "from sklearn.linear_model import Lasso\n",
    "\n",
    "r =   Lasso(alpha=0.01)\n",
    "r.fit(X_train, Y_train)\n",
    "\n",
    "print(\"W: \",r.coef_) #pesos W\n",
    "print(\"b: \",r.intercept_)\n",
    "\n",
    "print(\"Train Accuracy: \",r.score(X_train, Y_train))\n",
    "print(\"Test Accuracy: \",r.score(X_test, Y_test))\n"
   ]
  },
  {
   "cell_type": "code",
   "execution_count": 48,
   "metadata": {
    "colab": {
     "base_uri": "https://localhost:8080/",
     "height": 455
    },
    "colab_type": "code",
    "executionInfo": {
     "elapsed": 1133,
     "status": "ok",
     "timestamp": 1598735486192,
     "user": {
      "displayName": "GUSTAVO ANDRES SALAZAR GOMEZ",
      "photoUrl": "",
      "userId": "10827691154993089775"
     },
     "user_tz": 300
    },
    "id": "h0yRrgTKDkKx",
    "outputId": "88476ddd-8740-49a9-e805-674c2b3665de"
   },
   "outputs": [
    {
     "name": "stderr",
     "output_type": "stream",
     "text": [
      "/usr/local/lib/python3.6/dist-packages/ipykernel_launcher.py:10: UserWarning: With alpha=0, this algorithm does not converge well. You are advised to use the LinearRegression estimator\n",
      "  # Remove the CWD from sys.path while we load stuff.\n",
      "/usr/local/lib/python3.6/dist-packages/sklearn/linear_model/_coordinate_descent.py:476: UserWarning: Coordinate descent with no regularization may lead to unexpected results and is discouraged.\n",
      "  positive)\n",
      "/usr/local/lib/python3.6/dist-packages/sklearn/linear_model/_coordinate_descent.py:476: ConvergenceWarning: Objective did not converge. You might want to increase the number of iterations. Duality gap: 1105.926996883251, tolerance: 3.218153480225989\n",
      "  positive)\n",
      "/usr/local/lib/python3.6/dist-packages/sklearn/linear_model/_coordinate_descent.py:476: ConvergenceWarning: Objective did not converge. You might want to increase the number of iterations. Duality gap: 4.029423633883198, tolerance: 3.218153480225989\n",
      "  positive)\n"
     ]
    },
    {
     "data": {
      "text/plain": [
       "<matplotlib.legend.Legend at 0x7f1601987ef0>"
      ]
     },
     "execution_count": 48,
     "metadata": {
      "tags": []
     },
     "output_type": "execute_result"
    },
    {
     "data": {
      "image/png": "[encoded data removed]",
      "text/plain": [
       "<Figure size 432x288 with 1 Axes>"
      ]
     },
     "metadata": {
      "needs_background": "light",
      "tags": []
     },
     "output_type": "display_data"
    }
   ],
   "source": [
    "X_train,X_test,Y_train,Y_test= train_test_split(X,y,test_size = 0.30,random_state=140)\n",
    "r_range =  np.arange(0, 0.1, 0.01)\n",
    "scores = []\n",
    "scores_t=[]\n",
    "\n",
    "\n",
    "#se recorre el hyperparameter para validar cual demuestra un mejor resultado\n",
    "for a in r_range:\n",
    "    r =   Lasso(alpha=a)\n",
    "    r.fit(X_train, Y_train)\n",
    "    scores.append(r.score(X_test, Y_test))\n",
    "    scores_t.append(r.score(X_train, Y_train))\n",
    "\n",
    "plt.xlabel('alpha')\n",
    "plt.ylabel('Accuracy')\n",
    "\n",
    "plt.plot(r_range, scores,label='X_test')\n",
    "plt.plot(r_range, scores_t,label='X_train')\n",
    "plt.legend()"
   ]
  }
 ],
 "metadata": {
  "colab": {
   "authorship_tag": "ABX9TyOkPqVf8Dw4+Qc11+tuXZYT",
   "collapsed_sections": [],
   "mount_file_id": "1KSGbsBwqfccqob8_VlITUOS1NnLyUhA_",
   "name": "linear_regression.ipynb",
   "provenance": [
    {
     "file_id": "1KSGbsBwqfccqob8_VlITUOS1NnLyUhA_",
     "timestamp": 1598728809220
    }
   ]
  },
  "kernelspec": {
   "display_name": "Python 3",
   "name": "python3"
  }
 },
 "nbformat": 4,
 "nbformat_minor": 1
}
